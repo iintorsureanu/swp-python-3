{
 "cells": [
  {
   "cell_type": "markdown",
   "metadata": {},
   "source": [
    "# Seminar Python 3: Pandas - data processing and statistics"
   ]
  },
  {
   "cell_type": "markdown",
   "metadata": {},
   "source": [
    "Converting dates from string"
   ]
  },
  {
   "cell_type": "code",
   "execution_count": null,
   "metadata": {},
   "outputs": [],
   "source": [
    "#Example 1. Convert the DATE column from string to date\n",
    "import dateutil\n",
    "import pandas as pd\n",
    "df = pd.read_csv('phone_data.csv')\n",
    "print(df.dtypes)\n",
    "df['date'] = df['date'].apply(dateutil.parser.parse, dayfirst=True)\n",
    "print(df.dtypes)"
   ]
  },
  {
   "cell_type": "markdown",
   "metadata": {},
   "source": [
    "Grouping and applying functions to groups"
   ]
  },
  {
   "cell_type": "code",
   "execution_count": null,
   "metadata": {},
   "outputs": [],
   "source": [
    "#Example 2. Grouping records\n",
    "import pandas as pd\n",
    "df = pd.read_csv('phone_data.csv')\n",
    "print(df.groupby(['item']).groups.keys())\n",
    "print(len(df.groupby(['item']).groups['call']))\n",
    "\n",
    "import pandas as pd\n",
    "df = pd.read_csv('phone_data.csv')\n",
    "print(df.groupby(['month']).groups.keys())\n",
    "print(len(df.groupby(['month']).groups['2014-11']))"
   ]
  },
  {
   "cell_type": "code",
   "execution_count": null,
   "metadata": {},
   "outputs": [],
   "source": [
    "#Example 3. Applying functions by groups\n",
    "import pandas as pd\n",
    "df = pd.read_csv('phone_data.csv')\n",
    "print('First record from each group, by item') #???\n",
    "print(df.groupby('item').first())\n",
    "\n",
    "print('Total of duration for each month')\n",
    "print(df.groupby('month')['duration'].sum())\n",
    "\n",
    "print('Total duration for calls, by network')\n",
    "print(df[df['item'] == 'call'].groupby('network')['duration'].sum())"
   ]
  },
  {
   "cell_type": "code",
   "execution_count": null,
   "metadata": {},
   "outputs": [],
   "source": [
    "#Example 4. Complex grouping\n",
    "import pandas as pd\n",
    "df = pd.read_csv('phone_data.csv')\n",
    "print('Count of calls, sms, data transfer for each month')\n",
    "print(df.groupby(['month', 'item'])['date'].count())"
   ]
  },
  {
   "cell_type": "code",
   "execution_count": null,
   "metadata": {},
   "outputs": [],
   "source": [
    "#Example 5. Grouping and data aggregation\n",
    "import pandas as pd\n",
    "df = pd.read_csv('phone_data.csv')\n",
    "# Group by month and item; compute statistics for each group\n",
    "print(df.groupby(['month', 'item']).agg({'duration':sum,      # sum of durations per group\n",
    "                                     'network_type': \"count\", # count of network types\n",
    "                                     'date': 'first'}))    # first value (data) for each group\n",
    "\n",
    "df1 = df.groupby(['month', 'item']).agg({'duration':sum,      # sum of durations per group\n",
    "                                     'network_type': \"count\", # count of network types\n",
    "                                     'date': 'first'})\n",
    "df1.to_csv('aggregate.csv')"
   ]
  },
  {
   "cell_type": "code",
   "execution_count": null,
   "metadata": {},
   "outputs": [],
   "source": [
    "#Example 6. Applying multiple functions per column\n",
    "import pandas as pd\n",
    "df = pd.read_csv('phone_data.csv')\n",
    "# Group by month and item; compute statistics for each group\n",
    "print(df.groupby(['month', 'item']).agg({'duration': [min, max, sum],      # min, max, sum of duration\n",
    "                                     'network_type': \"count\", # count of network types\n",
    "                                     'date': [min, 'first', 'nunique']}))  # min, first, no. of unique values per group"
   ]
  },
  {
   "cell_type": "markdown",
   "metadata": {},
   "source": [
    "DataFrame merge and join operations\n",
    "\n",
    "The csv data files **user_device.csv** and **user_usage.csv** have the common column **use_id**.  \n",
    "The column **Model** in **supported_devices.csv** has common values with the **device** column in **user_device.csv**."
   ]
  },
  {
   "cell_type": "code",
   "execution_count": null,
   "metadata": {},
   "outputs": [],
   "source": [
    "#Example 7. Inner merge / inner join\n",
    "import pandas as pd\n",
    "df = pd.read_csv('user_usage.csv')\n",
    "df1 = pd.read_csv('user_device.csv')\n",
    "\n",
    "result = pd.merge(df,\n",
    "                  df1[['use_id', 'platform', 'device']],\n",
    "                  on='use_id')\n",
    "print(result)\n",
    "print('Dataset structure user_usage.csv ', df.shape)\n",
    "print('Dataset structure user_device.csv ', df1.shape)\n",
    "print(df['use_id'].isin(df1['use_id']).value_counts())"
   ]
  },
  {
   "cell_type": "code",
   "execution_count": null,
   "metadata": {},
   "outputs": [],
   "source": [
    "#Example 8. Left merge / left join\n",
    "import pandas as pd\n",
    "df = pd.read_csv('user_usage.csv')\n",
    "df1 = pd.read_csv('user_device.csv')\n",
    "\n",
    "result = pd.merge(df,\n",
    "                  df1[['use_id', 'platform', 'device']],\n",
    "                  on='use_id',\n",
    "                  how='left')\n",
    "print(result)\n",
    "print('Dataset structure user_usage.csv ', df.shape)\n",
    "print('Dataset structure user_device.csv ', df1.shape)\n",
    "print(df['use_id'].isin(df1['use_id']).value_counts())"
   ]
  },
  {
   "cell_type": "code",
   "execution_count": null,
   "metadata": {},
   "outputs": [],
   "source": [
    "#Example 9. Right merge / right join\n",
    "import pandas as pd\n",
    "df = pd.read_csv('user_usage.csv')\n",
    "df1 = pd.read_csv('user_device.csv')\n",
    "\n",
    "result = pd.merge(df,\n",
    "                  df1[['use_id', 'platform', 'device']],\n",
    "                  on='use_id',\n",
    "                  how='right')\n",
    "print(result)\n",
    "print('Dataset structure user_usage.csv ', df.shape)\n",
    "print('Dataset structure user_device.csv ', df1.shape)\n",
    "print(df['use_id'].isin(df1['use_id']).value_counts())"
   ]
  },
  {
   "cell_type": "code",
   "execution_count": null,
   "metadata": {},
   "outputs": [],
   "source": [
    "#Example 10. Full outer merge / full outer join\n",
    "import pandas as pd\n",
    "df = pd.read_csv('user_usage.csv')\n",
    "df1 = pd.read_csv('user_device.csv')\n",
    "\n",
    "result = pd.merge(df,\n",
    "                  df1[['use_id', 'platform', 'device']],\n",
    "                  on='use_id',\n",
    "                  how='outer')\n",
    "print(result)\n",
    "print('Dataset structure user_usage.csv ', df.shape)\n",
    "print('Dataset structure user_device.csv ', df1.shape)\n",
    "print(df['use_id'].isin(df1['use_id']).value_counts())"
   ]
  },
  {
   "cell_type": "code",
   "execution_count": null,
   "metadata": {},
   "outputs": [],
   "source": [
    "#Example 11. Full outer merge / full outer join with the _merge indication\n",
    "import pandas as pd\n",
    "df = pd.read_csv('user_usage.csv')\n",
    "df1 = pd.read_csv('user_device.csv')\n",
    "\n",
    "result = pd.merge(df,\n",
    "                  df1[['use_id', 'platform', 'device']],\n",
    "                  on='use_id',\n",
    "                  how='outer',\n",
    "                  indicator=True)\n",
    "print(result)\n",
    "print('Dataset structure user_usage.csv ', df.shape)\n",
    "print('Dataset structure user_device.csv ', df1.shape)\n",
    "print(df['use_id'].isin(df1['use_id']).value_counts())"
   ]
  },
  {
   "cell_type": "code",
   "execution_count": null,
   "metadata": {},
   "outputs": [],
   "source": [
    "#Example 12. Merge with three datasets\n",
    "\n",
    "import pandas as pd\n",
    "df = pd.read_csv('user_usage.csv')\n",
    "df1 = pd.read_csv('user_device.csv')\n",
    "df3 = pd.read_csv('supported_devices.csv')\n",
    "\n",
    "result = pd.merge(df,\n",
    "                  df1[['use_id', 'platform', 'device']],\n",
    "                  on='use_id',\n",
    "                  how='left')\n",
    "\n",
    "df3.rename(columns={\"Retail Branding\": \"manufacturer\"}, inplace=True)\n",
    "result = pd.merge(result,\n",
    "                  df3[['manufacturer', 'Model']],\n",
    "                  left_on='device',\n",
    "                  right_on='Model',\n",
    "                  how='left')\n",
    "print(result.head())\n",
    "print(result.shape)"
   ]
  },
  {
   "cell_type": "code",
   "execution_count": null,
   "metadata": {},
   "outputs": [],
   "source": [
    "#Example 13. Applying groupby and agg on the resulting dataset\n",
    "import pandas as pd\n",
    "df = pd.read_csv('user_usage.csv')\n",
    "df1 = pd.read_csv('user_device.csv')\n",
    "df3 = pd.read_csv('supported_devices.csv')\n",
    "\n",
    "result = pd.merge(df,\n",
    "                  df1[['use_id', 'platform', 'device']],\n",
    "                  on='use_id',\n",
    "                  how='left')\n",
    "\n",
    "df3.rename(columns={\"Retail Branding\": \"manufacturer\"}, inplace=True)\n",
    "result = pd.merge(result,\n",
    "                  df3[['manufacturer', 'Model']],\n",
    "                  left_on='device',\n",
    "                  right_on='Model',\n",
    "                  how='left')\n",
    "print(result.groupby(\"manufacturer\").agg({\n",
    "    \"outgoing_mins_per_month\": \"mean\",\n",
    "    \"outgoing_sms_per_month\": \"mean\",\n",
    "    \"monthly_mb\": \"mean\",\n",
    "    \"use_id\": \"count\"\n",
    "}))"
   ]
  },
  {
   "cell_type": "markdown",
   "metadata": {},
   "source": [
    "# Using *matplotlib* to create charts"
   ]
  },
  {
   "cell_type": "code",
   "execution_count": null,
   "metadata": {},
   "outputs": [],
   "source": [
    "#Example 14. Create a bar chart with matplotlib.pyplot\n",
    "import pandas as pd\n",
    "import matplotlib.pyplot as plt\n",
    "pd.set_option(\"display.max_columns\",10)\n",
    "df = pd.read_csv('clients_leasing20.csv')\n",
    "print(df['AGE'])\n",
    "df['AGE'].plot(kind='bar')\n",
    "plt.xlabel('ID_CLIENT')\n",
    "plt.ylabel('AGE')\n",
    "plt.show()"
   ]
  },
  {
   "cell_type": "code",
   "execution_count": null,
   "metadata": {},
   "outputs": [],
   "source": [
    "#Example 15. Applying colors to bars, according to bar percentage\n",
    "import pandas as pd\n",
    "import matplotlib.pyplot as plt\n",
    "from matplotlib import cm\n",
    "pd.set_option(\"display.max_columns\",10)\n",
    "df = pd.read_csv('clients_leasing20.csv')\n",
    "print(df['AGE'])\n",
    "#all_colors = list(plt.cm.colors.cnames.keys())\n",
    "colors = cm.hsv( df['AGE']/ float(max(df['AGE'])))\n",
    "df['AGE'].plot(kind='bar',color=colors)\n",
    "plt.xlabel('ID_CLIENT')\n",
    "plt.ylabel('AGE')\n",
    "plt.show()"
   ]
  },
  {
   "cell_type": "code",
   "execution_count": null,
   "metadata": {},
   "outputs": [],
   "source": [
    "#Example 16. Create a histogram with matplotlib.pyplot\n",
    "import pandas as pd\n",
    "import matplotlib.pyplot as plt\n",
    "pd.set_option(\"display.max_columns\",10)\n",
    "df = pd.read_csv('clients_leasing20.csv')\n",
    "print(df['AGE'])\n",
    "df['AGE'].plot(kind='hist')\n",
    "plt.xlabel('AGE')\n",
    "plt.show()"
   ]
  },
  {
   "cell_type": "code",
   "execution_count": null,
   "metadata": {},
   "outputs": [],
   "source": [
    "#Example 17. Create a bar chart for groups of records, sorting\n",
    "import pandas as pd\n",
    "import matplotlib.pyplot as plt\n",
    "df = pd.read_csv('clients_leasing20.csv')\n",
    "plot_data=df[df['SEX']=='m']\n",
    "plot_data=plot_data.groupby('JOB')['INCOME_PER_YEAR'].sum()\n",
    "plot_data.sort_values().plot(kind='bar')\n",
    "plt.show()"
   ]
  },
  {
   "cell_type": "markdown",
   "metadata": {},
   "source": [
    "# References\n",
    "https://matplotlib.org/index.html  \n",
    "https://www.shanelynn.ie/summarising-aggregation-and-grouping-data-in-python-pandas/  \n",
    "https://www.shanelynn.ie/merge-join-dataframes-python-pandas-index-1/"
   ]
  },
  {
   "cell_type": "markdown",
   "metadata": {},
   "source": [
    "Exercises\n",
    "1) Create a pie chart for showing the SMS (duration ?) by month, using **phone_data.csv**."
   ]
  },
  {
   "cell_type": "code",
   "execution_count": null,
   "metadata": {},
   "outputs": [],
   "source": []
  },
  {
   "cell_type": "markdown",
   "metadata": {},
   "source": [
    "2) Create a dataset from **user_usage.csv** and **supported_devices.csv**;  \n",
    "create a bar chart with the total data traffic (**monthly_mb**) for each brand in column **Retail Branding**."
   ]
  },
  {
   "cell_type": "code",
   "execution_count": null,
   "metadata": {},
   "outputs": [],
   "source": []
  },
  {
   "cell_type": "markdown",
   "metadata": {},
   "source": [
    "3) Use **phone_data.csv** to compute the total duration for each month, and the total duration per network type (col. **mobile**) for each month."
   ]
  },
  {
   "cell_type": "code",
   "execution_count": null,
   "metadata": {},
   "outputs": [],
   "source": []
  }
 ],
 "metadata": {
  "kernelspec": {
   "display_name": "Python 3",
   "language": "python",
   "name": "python3"
  },
  "language_info": {
   "codemirror_mode": {
    "name": "ipython",
    "version": 3
   },
   "file_extension": ".py",
   "mimetype": "text/x-python",
   "name": "python",
   "nbconvert_exporter": "python",
   "pygments_lexer": "ipython3",
   "version": "3.7.4"
  }
 },
 "nbformat": 4,
 "nbformat_minor": 4
}
